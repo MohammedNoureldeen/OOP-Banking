{
 "cells": [
  {
   "cell_type": "code",
   "execution_count": 1,
   "metadata": {},
   "outputs": [
    {
     "name": "stdout",
     "output_type": "stream",
     "text": [
      "0x7ffe7a3c23a8\n"
     ]
    }
   ],
   "source": [
    "# Assgining value to a\n",
    "a = 1\n",
    "print(hex(id(a)))\n"
   ]
  },
  {
   "cell_type": "markdown",
   "metadata": {},
   "source": [
    "# Mutable object"
   ]
  },
  {
   "cell_type": "code",
   "execution_count": 3,
   "metadata": {},
   "outputs": [
    {
     "name": "stdout",
     "output_type": "stream",
     "text": [
      "0x7ffe7a3c23c8\n",
      "0x7ffe7a3c23e8\n",
      "0x7ffe7a3c23a8\n"
     ]
    }
   ],
   "source": [
    "# Changing value of a , but not changing the address of a\n",
    "a = 2\n",
    "print(hex(id(a)))\n",
    "# Now a changed to 3 , but the address of a that reference to 2 is not changed\n",
    "a = 3\n",
    "print(hex(id(a)))\n",
    "\n",
    "# Immutable object\n",
    "# Changing value of a , will change the address of a\n",
    "a = 1\n",
    "print(hex(id(a)))\n",
    "\n"
   ]
  },
  {
   "cell_type": "markdown",
   "metadata": {},
   "source": [
    "## Immutable object are safe from unintended side-effects"
   ]
  },
  {
   "cell_type": "code",
   "execution_count": 6,
   "metadata": {},
   "outputs": [
    {
     "data": {
      "text/plain": [
       "'Helloworld'"
      ]
     },
     "execution_count": 6,
     "metadata": {},
     "output_type": "execute_result"
    }
   ],
   "source": [
    "my_var = \"Hello\"\n",
    "\n",
    "def func(a):\n",
    "    x = a + \"world\"\n",
    "    return x\n",
    "\n",
    "\n",
    "func(my_var)"
   ]
  },
  {
   "cell_type": "code",
   "execution_count": 9,
   "metadata": {},
   "outputs": [
    {
     "name": "stdout",
     "output_type": "stream",
     "text": [
      "0x1a95efb2130\n",
      "0x1a95efc7530\n"
     ]
    }
   ],
   "source": [
    "# The address of my_var is not changed because the object is immutable Tha's called Scope of the variable\n",
    "\n",
    "# Module level scope\n",
    "print(hex(id(my_var)))\n",
    "# Function level scope\n",
    "print(hex(id(func(my_var))))\n"
   ]
  },
  {
   "cell_type": "markdown",
   "metadata": {},
   "source": [
    "# Immutable address , mutable Content "
   ]
  },
  {
   "cell_type": "code",
   "execution_count": 4,
   "metadata": {},
   "outputs": [
    {
     "name": "stdout",
     "output_type": "stream",
     "text": [
      "0x1a95ef93980\n",
      "0x1a95ef93980\n"
     ]
    }
   ],
   "source": [
    "a = [1,2,3]\n",
    "print(hex(id(a)))\n",
    "\n",
    "a[0] = 4\n",
    "print(hex(id(a)))\n",
    "\n",
    "\n"
   ]
  },
  {
   "cell_type": "code",
   "execution_count": 5,
   "metadata": {},
   "outputs": [
    {
     "name": "stdout",
     "output_type": "stream",
     "text": [
      "0x1a95ef61000\n",
      "0x1a95ef47ec0\n"
     ]
    }
   ],
   "source": [
    "a =[1,2,3]\n",
    "print(hex(id(a)))\n",
    "# The address of a will change to new address because I  made a new object pointing to new address\n",
    "a = [4,5,6]\n",
    "print(hex(id(a)))   \n",
    "\n",
    "\n"
   ]
  },
  {
   "cell_type": "markdown",
   "metadata": {},
   "source": [
    "## Mutable object not safe to side-effects"
   ]
  },
  {
   "cell_type": "code",
   "execution_count": 10,
   "metadata": {},
   "outputs": [
    {
     "data": {
      "text/plain": [
       "[4, 2, 3]"
      ]
     },
     "execution_count": 10,
     "metadata": {},
     "output_type": "execute_result"
    }
   ],
   "source": [
    "list_1 = [1,2,3]\n",
    "\n",
    "def func(a):\n",
    "    a[0] = 4\n",
    "    return a\n",
    "\n",
    "func(list_1)\n"
   ]
  },
  {
   "cell_type": "code",
   "execution_count": 11,
   "metadata": {},
   "outputs": [
    {
     "name": "stdout",
     "output_type": "stream",
     "text": [
      "0x1a95efcf080\n",
      "0x1a95efcf080\n"
     ]
    }
   ],
   "source": [
    "# Module scope \n",
    "print(hex(id(list_1)))\n",
    "\n",
    "# Function scope\n",
    "print(hex(id(func(list_1))))\n"
   ]
  },
  {
   "cell_type": "markdown",
   "metadata": {},
   "source": [
    "# Shared Referance\n"
   ]
  },
  {
   "cell_type": "code",
   "execution_count": 12,
   "metadata": {},
   "outputs": [
    {
     "name": "stdout",
     "output_type": "stream",
     "text": [
      "0x7ffe7a3c24c8\n",
      "0x7ffe7a3c24c8\n"
     ]
    }
   ],
   "source": [
    "a =10\n",
    "b =10\n",
    "\n",
    "print(hex(id(a)))\n",
    "print(hex(id(b)))\n",
    "\n",
    "\n"
   ]
  },
  {
   "cell_type": "code",
   "execution_count": 14,
   "metadata": {},
   "outputs": [
    {
     "name": "stdout",
     "output_type": "stream",
     "text": [
      "0x1a95efcf6c0\n",
      "0x1a95ef0b780\n",
      "[4, 2, 3]\n",
      "0x1a95efcf6c0\n",
      "[1, 2, 3]\n",
      "0x1a95ef0b780\n"
     ]
    }
   ],
   "source": [
    "a = [1,2,3]\n",
    "b = [1,2,3]\n",
    "\n",
    "print(hex(id(a)))\n",
    "print(hex(id(b)))\n",
    "\n",
    "a[0] = 4\n",
    "print(a)\n",
    "print(hex(id(a)))\n",
    "print(b)\n",
    "print(hex(id(b)))\n",
    "\n",
    "\n",
    "\n"
   ]
  },
  {
   "cell_type": "code",
   "execution_count": null,
   "metadata": {},
   "outputs": [],
   "source": []
  }
 ],
 "metadata": {
  "kernelspec": {
   "display_name": "Python 3",
   "language": "python",
   "name": "python3"
  },
  "language_info": {
   "codemirror_mode": {
    "name": "ipython",
    "version": 3
   },
   "file_extension": ".py",
   "mimetype": "text/x-python",
   "name": "python",
   "nbconvert_exporter": "python",
   "pygments_lexer": "ipython3",
   "version": "3.13.3"
  }
 },
 "nbformat": 4,
 "nbformat_minor": 2
}
